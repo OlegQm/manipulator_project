{
 "cells": [
  {
   "cell_type": "code",
   "execution_count": 1,
   "id": "df7dd845-87ce-4686-9bb3-5eb147a46655",
   "metadata": {},
   "outputs": [],
   "source": [
    "from ultralytics import YOLO\n",
    "\n",
    "# Загрузка предобученной модели YOLOv8n\n",
    "MODEL_PATH = \"models/volov8_model_v4.pt\"\n",
    "model = YOLO(MODEL_PATH)\n",
    "\n",
    "# Сохранение модели в формате ONNX\n",
    "model.export(format='onnx')\n",
    "\n",
    "###############################\n",
    "\n",
    "import tensorflow as tf\n",
    "\n",
    "# Загрузка модели TensorFlow\n",
    "saved_model_dir = 'models/volov8_model_v4_tf'\n",
    "converter = tf.lite.TFLiteConverter.from_saved_model(saved_model_dir)\n",
    "\n",
    "# Оптимизация модели (опционально)\n",
    "converter.optimizations = [tf.lite.Optimize.DEFAULT]\n",
    "\n",
    "# Конвертация модели в TFLite\n",
    "tflite_model = converter.convert()\n",
    "\n",
    "# Сохранение модели в файл\n",
    "with open('yolov8n.tflite', 'wb') as f:\n",
    "    f.write(tflite_model)\n",
    "\n",
    "###############################\n",
    "\n",
    "import tensorflow as tf\n",
    "\n",
    "# Путь к сохраненной модели TensorFlow\n",
    "saved_model_dir = 'models/volov8_model_v4_tf'\n",
    "\n",
    "# Создание конвертера\n",
    "converter = tf.lite.TFLiteConverter.from_saved_model(saved_model_dir)\n",
    "\n",
    "# Включение поддержки Select Ops\n",
    "converter.target_spec.supported_ops = [\n",
    "    tf.lite.OpsSet.TFLITE_BUILTINS,  # Включает встроенные операции TFLite\n",
    "    tf.lite.OpsSet.SELECT_TF_OPS     # Включает операции TensorFlow Select\n",
    "]\n",
    "\n",
    "# Оптимизация модели (опционально)\n",
    "converter.optimizations = [tf.lite.Optimize.DEFAULT]\n",
    "\n",
    "# Конвертация модели в TFLite\n",
    "tflite_model = converter.convert()\n",
    "\n",
    "# Сохранение модели в файл\n",
    "with open('yolov8n.tflite', 'wb') as f:\n",
    "    f.write(tflite_model)"
   ]
  }
 ],
 "metadata": {
  "kernelspec": {
   "display_name": "Python 3 (ipykernel)",
   "language": "python",
   "name": "python3"
  },
  "language_info": {
   "codemirror_mode": {
    "name": "ipython",
    "version": 3
   },
   "file_extension": ".py",
   "mimetype": "text/x-python",
   "name": "python",
   "nbconvert_exporter": "python",
   "pygments_lexer": "ipython3",
   "version": "3.8.8"
  }
 },
 "nbformat": 4,
 "nbformat_minor": 5
}
